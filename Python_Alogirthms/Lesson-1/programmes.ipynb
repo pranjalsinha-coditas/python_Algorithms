{
 "cells": [
  {
   "cell_type": "markdown",
   "metadata": {},
   "source": [
    "# Factorials"
   ]
  },
  {
   "cell_type": "code",
   "execution_count": 8,
   "metadata": {},
   "outputs": [
    {
     "name": "stdout",
     "output_type": "stream",
     "text": [
      "120\n"
     ]
    }
   ],
   "source": [
    "def iterative_factorial(n):\n",
    "    fact = 1\n",
    "    for i in range(2, n + 1):\n",
    "        fact *= i\n",
    "    return fact \n",
    "print(iterative_factorial(5))\n",
    "    "
   ]
  },
  {
   "cell_type": "code",
   "execution_count": 9,
   "metadata": {},
   "outputs": [
    {
     "name": "stdout",
     "output_type": "stream",
     "text": [
      "120\n"
     ]
    }
   ],
   "source": [
    "def recur_factorial(n):\n",
    "    if n == 1:\n",
    "        return n\n",
    "    else:\n",
    "        temp = recur_factorial(n-1)\n",
    "        temp = temp * n\n",
    "    return temp\n",
    "print(recur_factorial(5))"
   ]
  },
  {
   "cell_type": "code",
   "execution_count": 10,
   "metadata": {},
   "outputs": [
    {
     "name": "stdout",
     "output_type": "stream",
     "text": [
      "CBA\n",
      "BCA\n",
      "CAB\n",
      "ACB\n",
      "BAC\n",
      "ABC\n",
      "None\n"
     ]
    }
   ],
   "source": [
    "def permute(string, pocket=\"\"):\n",
    "    if len(string) == 0:\n",
    "        print(pocket)\n",
    "    else:\n",
    "        for i in range(len(string)):\n",
    "            letter = string[i]\n",
    "            front = string[0:i]\n",
    "            back = string[i+1:]\n",
    "            together = front + back\n",
    "            permute(together, letter + pocket)\n",
    "print(permute(\"ABC\", \"\"))\n"
   ]
  },
  {
   "cell_type": "markdown",
   "metadata": {},
   "source": [
    "# Mindbreaker: 8/N Queens Problem"
   ]
  },
  {
   "cell_type": "code",
   "execution_count": 11,
   "metadata": {},
   "outputs": [],
   "source": [
    "def binary_itr(arr, start, end, target):\n",
    "    while start <= end:\n",
    "        \n",
    "        mid  = ( start + end) // 2\n",
    "        if arr[mid] < target:\n",
    "            start  = mid + 1\n",
    "\n",
    "        elif arr[mid] > target:\n",
    "            end = mid - 1\n",
    "        else:\n",
    "            return mid\n",
    "        \n",
    "    return start"
   ]
  },
  {
   "cell_type": "markdown",
   "metadata": {},
   "source": [
    "# PERMUTATIONS\n",
    "\n",
    "## ITERATIVE PROGRAM FOR PERMUTATIONS"
   ]
  },
  {
   "cell_type": "code",
   "execution_count": 13,
   "metadata": {},
   "outputs": [
    {
     "name": "stdout",
     "output_type": "stream",
     "text": [
      "abc\n",
      "acb\n",
      "bac\n",
      "bca\n",
      "cab\n",
      "cba\n"
     ]
    }
   ],
   "source": [
    "from math import factorial\n",
    "def permutations(str):\n",
    "    for p in range(factorial(len(str))):\n",
    "        print(''.join(str))\n",
    "        i = len(str) - 1\n",
    "        while i > 0 and str[i - 1] > str[i]:\n",
    "            i -= 1\n",
    "        str[i:] = reversed(str[i:])\n",
    "        if i > 0:\n",
    "            q = i\n",
    "            while str[i - 1] > str[q]:\n",
    "                q += 1\n",
    "            temp = str[i - 1]\n",
    "            str[i - 1] = str[q]\n",
    "            str[q] = temp\n",
    "s = 'abc'\n",
    "s = list(s)\n",
    "permutations(s)"
   ]
  }
 ],
 "metadata": {
  "kernelspec": {
   "display_name": "Python 3",
   "language": "python",
   "name": "python3"
  },
  "language_info": {
   "codemirror_mode": {
    "name": "ipython",
    "version": 3
   },
   "file_extension": ".py",
   "mimetype": "text/x-python",
   "name": "python",
   "nbconvert_exporter": "python",
   "pygments_lexer": "ipython3",
   "version": "3.12.2"
  }
 },
 "nbformat": 4,
 "nbformat_minor": 2
}
